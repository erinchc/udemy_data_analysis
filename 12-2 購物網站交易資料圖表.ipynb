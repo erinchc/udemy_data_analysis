{
 "cells": [
  {
   "cell_type": "markdown",
   "metadata": {},
   "source": [
    "# 購物網站交易資料\n",
    "資料下載網址：https://raw.githubusercontent.com/Code-Gym/python-dataset/master/retail.csv"
   ]
  },
  {
   "cell_type": "code",
   "execution_count": 6,
   "metadata": {},
   "outputs": [
    {
     "data": {
      "text/html": [
       "<div>\n",
       "<style scoped>\n",
       "    .dataframe tbody tr th:only-of-type {\n",
       "        vertical-align: middle;\n",
       "    }\n",
       "\n",
       "    .dataframe tbody tr th {\n",
       "        vertical-align: top;\n",
       "    }\n",
       "\n",
       "    .dataframe thead th {\n",
       "        text-align: right;\n",
       "    }\n",
       "</style>\n",
       "<table border=\"1\" class=\"dataframe\">\n",
       "  <thead>\n",
       "    <tr style=\"text-align: right;\">\n",
       "      <th></th>\n",
       "      <th>InvoiceNo</th>\n",
       "      <th>StockCode</th>\n",
       "      <th>Description</th>\n",
       "      <th>Quantity</th>\n",
       "      <th>InvoiceDate</th>\n",
       "      <th>UnitPrice</th>\n",
       "      <th>CustomerID</th>\n",
       "      <th>Country</th>\n",
       "    </tr>\n",
       "  </thead>\n",
       "  <tbody>\n",
       "    <tr>\n",
       "      <th>0</th>\n",
       "      <td>536365</td>\n",
       "      <td>85123A</td>\n",
       "      <td>WHITE HANGING HEART T-LIGHT HOLDER</td>\n",
       "      <td>6</td>\n",
       "      <td>12/1/10 8:26</td>\n",
       "      <td>2.55</td>\n",
       "      <td>17850.0</td>\n",
       "      <td>United Kingdom</td>\n",
       "    </tr>\n",
       "    <tr>\n",
       "      <th>1</th>\n",
       "      <td>536365</td>\n",
       "      <td>71053</td>\n",
       "      <td>WHITE METAL LANTERN</td>\n",
       "      <td>6</td>\n",
       "      <td>12/1/10 8:26</td>\n",
       "      <td>3.39</td>\n",
       "      <td>17850.0</td>\n",
       "      <td>United Kingdom</td>\n",
       "    </tr>\n",
       "    <tr>\n",
       "      <th>2</th>\n",
       "      <td>536365</td>\n",
       "      <td>84406B</td>\n",
       "      <td>CREAM CUPID HEARTS COAT HANGER</td>\n",
       "      <td>8</td>\n",
       "      <td>12/1/10 8:26</td>\n",
       "      <td>2.75</td>\n",
       "      <td>17850.0</td>\n",
       "      <td>United Kingdom</td>\n",
       "    </tr>\n",
       "    <tr>\n",
       "      <th>3</th>\n",
       "      <td>536365</td>\n",
       "      <td>84029G</td>\n",
       "      <td>KNITTED UNION FLAG HOT WATER BOTTLE</td>\n",
       "      <td>6</td>\n",
       "      <td>12/1/10 8:26</td>\n",
       "      <td>3.39</td>\n",
       "      <td>17850.0</td>\n",
       "      <td>United Kingdom</td>\n",
       "    </tr>\n",
       "    <tr>\n",
       "      <th>4</th>\n",
       "      <td>536365</td>\n",
       "      <td>84029E</td>\n",
       "      <td>RED WOOLLY HOTTIE WHITE HEART.</td>\n",
       "      <td>6</td>\n",
       "      <td>12/1/10 8:26</td>\n",
       "      <td>3.39</td>\n",
       "      <td>17850.0</td>\n",
       "      <td>United Kingdom</td>\n",
       "    </tr>\n",
       "    <tr>\n",
       "      <th>...</th>\n",
       "      <td>...</td>\n",
       "      <td>...</td>\n",
       "      <td>...</td>\n",
       "      <td>...</td>\n",
       "      <td>...</td>\n",
       "      <td>...</td>\n",
       "      <td>...</td>\n",
       "      <td>...</td>\n",
       "    </tr>\n",
       "    <tr>\n",
       "      <th>9914</th>\n",
       "      <td>537224</td>\n",
       "      <td>70007</td>\n",
       "      <td>HI TEC ALPINE HAND WARMER</td>\n",
       "      <td>1</td>\n",
       "      <td>12/5/10 16:24</td>\n",
       "      <td>1.65</td>\n",
       "      <td>13174.0</td>\n",
       "      <td>United Kingdom</td>\n",
       "    </tr>\n",
       "    <tr>\n",
       "      <th>9915</th>\n",
       "      <td>537224</td>\n",
       "      <td>70006</td>\n",
       "      <td>LOVE HEART POCKET WARMER</td>\n",
       "      <td>1</td>\n",
       "      <td>12/5/10 16:24</td>\n",
       "      <td>1.65</td>\n",
       "      <td>13174.0</td>\n",
       "      <td>United Kingdom</td>\n",
       "    </tr>\n",
       "    <tr>\n",
       "      <th>9916</th>\n",
       "      <td>537224</td>\n",
       "      <td>85025C</td>\n",
       "      <td>PINK HEART SHAPE PHOTO FRAME</td>\n",
       "      <td>1</td>\n",
       "      <td>12/5/10 16:24</td>\n",
       "      <td>1.65</td>\n",
       "      <td>13174.0</td>\n",
       "      <td>United Kingdom</td>\n",
       "    </tr>\n",
       "    <tr>\n",
       "      <th>9917</th>\n",
       "      <td>537224</td>\n",
       "      <td>22866</td>\n",
       "      <td>HAND WARMER SCOTTY DOG DESIGN</td>\n",
       "      <td>1</td>\n",
       "      <td>12/5/10 16:24</td>\n",
       "      <td>2.10</td>\n",
       "      <td>13174.0</td>\n",
       "      <td>United Kingdom</td>\n",
       "    </tr>\n",
       "    <tr>\n",
       "      <th>9918</th>\n",
       "      <td>537224</td>\n",
       "      <td>22086</td>\n",
       "      <td>PAPER CHAIN KIT 50'S CHRISTMAS</td>\n",
       "      <td>1</td>\n",
       "      <td>12/5/10 16:24</td>\n",
       "      <td>2.95</td>\n",
       "      <td>13174.0</td>\n",
       "      <td>United Kingdom</td>\n",
       "    </tr>\n",
       "  </tbody>\n",
       "</table>\n",
       "<p>9919 rows × 8 columns</p>\n",
       "</div>"
      ],
      "text/plain": [
       "     InvoiceNo StockCode                          Description  Quantity  \\\n",
       "0       536365    85123A   WHITE HANGING HEART T-LIGHT HOLDER         6   \n",
       "1       536365     71053                  WHITE METAL LANTERN         6   \n",
       "2       536365    84406B       CREAM CUPID HEARTS COAT HANGER         8   \n",
       "3       536365    84029G  KNITTED UNION FLAG HOT WATER BOTTLE         6   \n",
       "4       536365    84029E       RED WOOLLY HOTTIE WHITE HEART.         6   \n",
       "...        ...       ...                                  ...       ...   \n",
       "9914    537224     70007            HI TEC ALPINE HAND WARMER         1   \n",
       "9915    537224     70006             LOVE HEART POCKET WARMER         1   \n",
       "9916    537224    85025C         PINK HEART SHAPE PHOTO FRAME         1   \n",
       "9917    537224     22866        HAND WARMER SCOTTY DOG DESIGN         1   \n",
       "9918    537224     22086      PAPER CHAIN KIT 50'S CHRISTMAS          1   \n",
       "\n",
       "        InvoiceDate  UnitPrice  CustomerID         Country  \n",
       "0      12/1/10 8:26       2.55     17850.0  United Kingdom  \n",
       "1      12/1/10 8:26       3.39     17850.0  United Kingdom  \n",
       "2      12/1/10 8:26       2.75     17850.0  United Kingdom  \n",
       "3      12/1/10 8:26       3.39     17850.0  United Kingdom  \n",
       "4      12/1/10 8:26       3.39     17850.0  United Kingdom  \n",
       "...             ...        ...         ...             ...  \n",
       "9914  12/5/10 16:24       1.65     13174.0  United Kingdom  \n",
       "9915  12/5/10 16:24       1.65     13174.0  United Kingdom  \n",
       "9916  12/5/10 16:24       1.65     13174.0  United Kingdom  \n",
       "9917  12/5/10 16:24       2.10     13174.0  United Kingdom  \n",
       "9918  12/5/10 16:24       2.95     13174.0  United Kingdom  \n",
       "\n",
       "[9919 rows x 8 columns]"
      ]
     },
     "execution_count": 6,
     "metadata": {},
     "output_type": "execute_result"
    }
   ],
   "source": [
    "import pandas as pd\n",
    "\n",
    "retail = pd.read_csv('https://raw.githubusercontent.com/Code-Gym/python-dataset/master/retail.csv')\n",
    "retail"
   ]
  },
  {
   "cell_type": "markdown",
   "metadata": {},
   "source": [
    "### 依據欄位Country分組計算欄位Quantity總和"
   ]
  },
  {
   "cell_type": "code",
   "execution_count": 7,
   "metadata": {},
   "outputs": [
    {
     "data": {
      "text/plain": [
       "Country\n",
       "Australia           107\n",
       "Belgium             528\n",
       "EIRE               2822\n",
       "France             1299\n",
       "Germany            1795\n",
       "Italy               164\n",
       "Japan               196\n",
       "Lithuania           622\n",
       "Netherlands          97\n",
       "Norway             1852\n",
       "Poland              140\n",
       "Portugal             65\n",
       "Spain               400\n",
       "Switzerland         110\n",
       "United Kingdom    67859\n",
       "Name: Quantity, dtype: int64"
      ]
     },
     "execution_count": 7,
     "metadata": {},
     "output_type": "execute_result"
    }
   ],
   "source": [
    "countries = retail.groupby('Country').Quantity.sum()\n",
    "countries"
   ]
  },
  {
   "cell_type": "markdown",
   "metadata": {},
   "source": [
    "### 由高至低降冪排序，並取得第2名到第10名資料"
   ]
  },
  {
   "cell_type": "code",
   "execution_count": 8,
   "metadata": {},
   "outputs": [
    {
     "data": {
      "text/plain": [
       "Country\n",
       "EIRE         2822\n",
       "Norway       1852\n",
       "Germany      1795\n",
       "France       1299\n",
       "Lithuania     622\n",
       "Belgium       528\n",
       "Spain         400\n",
       "Japan         196\n",
       "Italy         164\n",
       "Name: Quantity, dtype: int64"
      ]
     },
     "execution_count": 8,
     "metadata": {},
     "output_type": "execute_result"
    }
   ],
   "source": [
    "countries = countries.sort_values(ascending = False)[1:10]\n",
    "countries"
   ]
  },
  {
   "cell_type": "markdown",
   "metadata": {},
   "source": [
    "### 繪製長條圖"
   ]
  },
  {
   "cell_type": "code",
   "execution_count": 10,
   "metadata": {},
   "outputs": [
    {
     "data": {
      "image/png": "[encoded data removed]",
      "text/plain": [
       "<Figure size 432x288 with 1 Axes>"
      ]
     },
     "metadata": {
      "needs_background": "light"
     },
     "output_type": "display_data"
    }
   ],
   "source": [
    "plot = countries.plot.bar()"
   ]
  },
  {
   "cell_type": "code",
   "execution_count": null,
   "metadata": {},
   "outputs": [],
   "source": []
  }
 ],
 "metadata": {
  "kernelspec": {
   "display_name": "Python 3 (ipykernel)",
   "language": "python",
   "name": "python3"
  },
  "language_info": {
   "codemirror_mode": {
    "name": "ipython",
    "version": 3
   },
   "file_extension": ".py",
   "mimetype": "text/x-python",
   "name": "python",
   "nbconvert_exporter": "python",
   "pygments_lexer": "ipython3",
   "version": "3.9.13"
  }
 },
 "nbformat": 4,
 "nbformat_minor": 2
}
