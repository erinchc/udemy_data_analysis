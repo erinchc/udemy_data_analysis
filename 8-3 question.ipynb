{
 "cells": [
  {
   "cell_type": "markdown",
   "metadata": {},
   "source": [
    "# 練習\n",
    "### 餐廳來客數資料分析\n",
    "資料連結：https://raw.githubusercontent.com/Code-Gym/python-dataset/master/RestaurantVisitors.csv"
   ]
  },
  {
   "cell_type": "code",
   "execution_count": 2,
   "metadata": {},
   "outputs": [
    {
     "data": {
      "text/html": [
       "<div>\n",
       "<style scoped>\n",
       "    .dataframe tbody tr th:only-of-type {\n",
       "        vertical-align: middle;\n",
       "    }\n",
       "\n",
       "    .dataframe tbody tr th {\n",
       "        vertical-align: top;\n",
       "    }\n",
       "\n",
       "    .dataframe thead th {\n",
       "        text-align: right;\n",
       "    }\n",
       "</style>\n",
       "<table border=\"1\" class=\"dataframe\">\n",
       "  <thead>\n",
       "    <tr style=\"text-align: right;\">\n",
       "      <th></th>\n",
       "      <th>date</th>\n",
       "      <th>weekday</th>\n",
       "      <th>holiday</th>\n",
       "      <th>holiday_name</th>\n",
       "      <th>rest1</th>\n",
       "      <th>rest2</th>\n",
       "      <th>rest3</th>\n",
       "      <th>rest4</th>\n",
       "      <th>total</th>\n",
       "    </tr>\n",
       "  </thead>\n",
       "  <tbody>\n",
       "    <tr>\n",
       "      <th>0</th>\n",
       "      <td>1/1/2016</td>\n",
       "      <td>Friday</td>\n",
       "      <td>1</td>\n",
       "      <td>New Year's Day</td>\n",
       "      <td>65.0</td>\n",
       "      <td>25.0</td>\n",
       "      <td>67.0</td>\n",
       "      <td>139.0</td>\n",
       "      <td>296.0</td>\n",
       "    </tr>\n",
       "    <tr>\n",
       "      <th>1</th>\n",
       "      <td>1/2/2016</td>\n",
       "      <td>Saturday</td>\n",
       "      <td>0</td>\n",
       "      <td>na</td>\n",
       "      <td>24.0</td>\n",
       "      <td>39.0</td>\n",
       "      <td>43.0</td>\n",
       "      <td>85.0</td>\n",
       "      <td>191.0</td>\n",
       "    </tr>\n",
       "    <tr>\n",
       "      <th>2</th>\n",
       "      <td>1/3/2016</td>\n",
       "      <td>Sunday</td>\n",
       "      <td>0</td>\n",
       "      <td>na</td>\n",
       "      <td>24.0</td>\n",
       "      <td>31.0</td>\n",
       "      <td>66.0</td>\n",
       "      <td>81.0</td>\n",
       "      <td>202.0</td>\n",
       "    </tr>\n",
       "    <tr>\n",
       "      <th>3</th>\n",
       "      <td>1/4/2016</td>\n",
       "      <td>Monday</td>\n",
       "      <td>0</td>\n",
       "      <td>na</td>\n",
       "      <td>23.0</td>\n",
       "      <td>18.0</td>\n",
       "      <td>32.0</td>\n",
       "      <td>32.0</td>\n",
       "      <td>105.0</td>\n",
       "    </tr>\n",
       "    <tr>\n",
       "      <th>4</th>\n",
       "      <td>1/5/2016</td>\n",
       "      <td>Tuesday</td>\n",
       "      <td>0</td>\n",
       "      <td>na</td>\n",
       "      <td>2.0</td>\n",
       "      <td>15.0</td>\n",
       "      <td>38.0</td>\n",
       "      <td>43.0</td>\n",
       "      <td>98.0</td>\n",
       "    </tr>\n",
       "  </tbody>\n",
       "</table>\n",
       "</div>"
      ],
      "text/plain": [
       "       date   weekday  holiday    holiday_name  rest1  rest2  rest3  rest4  \\\n",
       "0  1/1/2016    Friday        1  New Year's Day   65.0   25.0   67.0  139.0   \n",
       "1  1/2/2016  Saturday        0              na   24.0   39.0   43.0   85.0   \n",
       "2  1/3/2016    Sunday        0              na   24.0   31.0   66.0   81.0   \n",
       "3  1/4/2016    Monday        0              na   23.0   18.0   32.0   32.0   \n",
       "4  1/5/2016   Tuesday        0              na    2.0   15.0   38.0   43.0   \n",
       "\n",
       "   total  \n",
       "0  296.0  \n",
       "1  191.0  \n",
       "2  202.0  \n",
       "3  105.0  \n",
       "4   98.0  "
      ]
     },
     "execution_count": 2,
     "metadata": {},
     "output_type": "execute_result"
    }
   ],
   "source": [
    "import pandas as pd\n",
    "\n",
    "res = pd.read_csv('https://raw.githubusercontent.com/Code-Gym/python-dataset/master/RestaurantVisitors.csv',sep=',')\n",
    "res.head()"
   ]
  },
  {
   "cell_type": "code",
   "execution_count": 3,
   "metadata": {},
   "outputs": [
    {
     "data": {
      "text/plain": [
       "date             object\n",
       "weekday          object\n",
       "holiday           int64\n",
       "holiday_name     object\n",
       "rest1           float64\n",
       "rest2           float64\n",
       "rest3           float64\n",
       "rest4           float64\n",
       "total           float64\n",
       "dtype: object"
      ]
     },
     "execution_count": 3,
     "metadata": {},
     "output_type": "execute_result"
    }
   ],
   "source": [
    "res.dtypes"
   ]
  },
  {
   "cell_type": "markdown",
   "metadata": {},
   "source": [
    "## 將date欄位轉為DatetimeIndex"
   ]
  },
  {
   "cell_type": "code",
   "execution_count": 5,
   "metadata": {},
   "outputs": [
    {
     "data": {
      "text/html": [
       "<div>\n",
       "<style scoped>\n",
       "    .dataframe tbody tr th:only-of-type {\n",
       "        vertical-align: middle;\n",
       "    }\n",
       "\n",
       "    .dataframe tbody tr th {\n",
       "        vertical-align: top;\n",
       "    }\n",
       "\n",
       "    .dataframe thead th {\n",
       "        text-align: right;\n",
       "    }\n",
       "</style>\n",
       "<table border=\"1\" class=\"dataframe\">\n",
       "  <thead>\n",
       "    <tr style=\"text-align: right;\">\n",
       "      <th></th>\n",
       "      <th>date</th>\n",
       "      <th>weekday</th>\n",
       "      <th>holiday</th>\n",
       "      <th>holiday_name</th>\n",
       "      <th>rest1</th>\n",
       "      <th>rest2</th>\n",
       "      <th>rest3</th>\n",
       "      <th>rest4</th>\n",
       "      <th>total</th>\n",
       "    </tr>\n",
       "    <tr>\n",
       "      <th>date</th>\n",
       "      <th></th>\n",
       "      <th></th>\n",
       "      <th></th>\n",
       "      <th></th>\n",
       "      <th></th>\n",
       "      <th></th>\n",
       "      <th></th>\n",
       "      <th></th>\n",
       "      <th></th>\n",
       "    </tr>\n",
       "  </thead>\n",
       "  <tbody>\n",
       "    <tr>\n",
       "      <th>2016-01-01</th>\n",
       "      <td>1/1/2016</td>\n",
       "      <td>Friday</td>\n",
       "      <td>1</td>\n",
       "      <td>New Year's Day</td>\n",
       "      <td>65.0</td>\n",
       "      <td>25.0</td>\n",
       "      <td>67.0</td>\n",
       "      <td>139.0</td>\n",
       "      <td>296.0</td>\n",
       "    </tr>\n",
       "    <tr>\n",
       "      <th>2016-01-02</th>\n",
       "      <td>1/2/2016</td>\n",
       "      <td>Saturday</td>\n",
       "      <td>0</td>\n",
       "      <td>na</td>\n",
       "      <td>24.0</td>\n",
       "      <td>39.0</td>\n",
       "      <td>43.0</td>\n",
       "      <td>85.0</td>\n",
       "      <td>191.0</td>\n",
       "    </tr>\n",
       "    <tr>\n",
       "      <th>2016-01-03</th>\n",
       "      <td>1/3/2016</td>\n",
       "      <td>Sunday</td>\n",
       "      <td>0</td>\n",
       "      <td>na</td>\n",
       "      <td>24.0</td>\n",
       "      <td>31.0</td>\n",
       "      <td>66.0</td>\n",
       "      <td>81.0</td>\n",
       "      <td>202.0</td>\n",
       "    </tr>\n",
       "    <tr>\n",
       "      <th>2016-01-04</th>\n",
       "      <td>1/4/2016</td>\n",
       "      <td>Monday</td>\n",
       "      <td>0</td>\n",
       "      <td>na</td>\n",
       "      <td>23.0</td>\n",
       "      <td>18.0</td>\n",
       "      <td>32.0</td>\n",
       "      <td>32.0</td>\n",
       "      <td>105.0</td>\n",
       "    </tr>\n",
       "    <tr>\n",
       "      <th>2016-01-05</th>\n",
       "      <td>1/5/2016</td>\n",
       "      <td>Tuesday</td>\n",
       "      <td>0</td>\n",
       "      <td>na</td>\n",
       "      <td>2.0</td>\n",
       "      <td>15.0</td>\n",
       "      <td>38.0</td>\n",
       "      <td>43.0</td>\n",
       "      <td>98.0</td>\n",
       "    </tr>\n",
       "  </tbody>\n",
       "</table>\n",
       "</div>"
      ],
      "text/plain": [
       "                date   weekday  holiday    holiday_name  rest1  rest2  rest3  \\\n",
       "date                                                                           \n",
       "2016-01-01  1/1/2016    Friday        1  New Year's Day   65.0   25.0   67.0   \n",
       "2016-01-02  1/2/2016  Saturday        0              na   24.0   39.0   43.0   \n",
       "2016-01-03  1/3/2016    Sunday        0              na   24.0   31.0   66.0   \n",
       "2016-01-04  1/4/2016    Monday        0              na   23.0   18.0   32.0   \n",
       "2016-01-05  1/5/2016   Tuesday        0              na    2.0   15.0   38.0   \n",
       "\n",
       "            rest4  total  \n",
       "date                      \n",
       "2016-01-01  139.0  296.0  \n",
       "2016-01-02   85.0  191.0  \n",
       "2016-01-03   81.0  202.0  \n",
       "2016-01-04   32.0  105.0  \n",
       "2016-01-05   43.0   98.0  "
      ]
     },
     "execution_count": 5,
     "metadata": {},
     "output_type": "execute_result"
    }
   ],
   "source": [
    "#將date欄位轉為datetime，再傳給Dataframe中的index\n",
    "res.index = pd.to_datetime(res['date'])\n",
    "res.head()"
   ]
  },
  {
   "cell_type": "markdown",
   "metadata": {},
   "source": [
    "# 第一間餐廳rest1，每週來客數總和多少？"
   ]
  },
  {
   "cell_type": "code",
   "execution_count": 6,
   "metadata": {
    "scrolled": true
   },
   "outputs": [
    {
     "name": "stderr",
     "output_type": "stream",
     "text": [
      "/var/folders/pm/t7xh08q53hvbcx0zynj45_wr0000gn/T/ipykernel_6543/3716707985.py:1: FutureWarning: weekofyear and week have been deprecated, please use DatetimeIndex.isocalendar().week instead, which returns a Series. To exactly reproduce the behavior of week and weekofyear and return an Index, you may call pd.Int64Index(idx.isocalendar().week)\n",
      "  res.index.week\n",
      "/var/folders/pm/t7xh08q53hvbcx0zynj45_wr0000gn/T/ipykernel_6543/3716707985.py:2: FutureWarning: weekofyear and week have been deprecated, please use DatetimeIndex.isocalendar().week instead, which returns a Series. To exactly reproduce the behavior of week and weekofyear and return an Index, you may call pd.Int64Index(idx.isocalendar().week)\n",
      "  res['week']=res.index.week\n"
     ]
    },
    {
     "data": {
      "text/html": [
       "<div>\n",
       "<style scoped>\n",
       "    .dataframe tbody tr th:only-of-type {\n",
       "        vertical-align: middle;\n",
       "    }\n",
       "\n",
       "    .dataframe tbody tr th {\n",
       "        vertical-align: top;\n",
       "    }\n",
       "\n",
       "    .dataframe thead th {\n",
       "        text-align: right;\n",
       "    }\n",
       "</style>\n",
       "<table border=\"1\" class=\"dataframe\">\n",
       "  <thead>\n",
       "    <tr style=\"text-align: right;\">\n",
       "      <th></th>\n",
       "      <th>date</th>\n",
       "      <th>weekday</th>\n",
       "      <th>holiday</th>\n",
       "      <th>holiday_name</th>\n",
       "      <th>rest1</th>\n",
       "      <th>rest2</th>\n",
       "      <th>rest3</th>\n",
       "      <th>rest4</th>\n",
       "      <th>total</th>\n",
       "      <th>week</th>\n",
       "    </tr>\n",
       "    <tr>\n",
       "      <th>date</th>\n",
       "      <th></th>\n",
       "      <th></th>\n",
       "      <th></th>\n",
       "      <th></th>\n",
       "      <th></th>\n",
       "      <th></th>\n",
       "      <th></th>\n",
       "      <th></th>\n",
       "      <th></th>\n",
       "      <th></th>\n",
       "    </tr>\n",
       "  </thead>\n",
       "  <tbody>\n",
       "    <tr>\n",
       "      <th>2016-01-01</th>\n",
       "      <td>1/1/2016</td>\n",
       "      <td>Friday</td>\n",
       "      <td>1</td>\n",
       "      <td>New Year's Day</td>\n",
       "      <td>65.0</td>\n",
       "      <td>25.0</td>\n",
       "      <td>67.0</td>\n",
       "      <td>139.0</td>\n",
       "      <td>296.0</td>\n",
       "      <td>53</td>\n",
       "    </tr>\n",
       "    <tr>\n",
       "      <th>2016-01-02</th>\n",
       "      <td>1/2/2016</td>\n",
       "      <td>Saturday</td>\n",
       "      <td>0</td>\n",
       "      <td>na</td>\n",
       "      <td>24.0</td>\n",
       "      <td>39.0</td>\n",
       "      <td>43.0</td>\n",
       "      <td>85.0</td>\n",
       "      <td>191.0</td>\n",
       "      <td>53</td>\n",
       "    </tr>\n",
       "    <tr>\n",
       "      <th>2016-01-03</th>\n",
       "      <td>1/3/2016</td>\n",
       "      <td>Sunday</td>\n",
       "      <td>0</td>\n",
       "      <td>na</td>\n",
       "      <td>24.0</td>\n",
       "      <td>31.0</td>\n",
       "      <td>66.0</td>\n",
       "      <td>81.0</td>\n",
       "      <td>202.0</td>\n",
       "      <td>53</td>\n",
       "    </tr>\n",
       "    <tr>\n",
       "      <th>2016-01-04</th>\n",
       "      <td>1/4/2016</td>\n",
       "      <td>Monday</td>\n",
       "      <td>0</td>\n",
       "      <td>na</td>\n",
       "      <td>23.0</td>\n",
       "      <td>18.0</td>\n",
       "      <td>32.0</td>\n",
       "      <td>32.0</td>\n",
       "      <td>105.0</td>\n",
       "      <td>1</td>\n",
       "    </tr>\n",
       "    <tr>\n",
       "      <th>2016-01-05</th>\n",
       "      <td>1/5/2016</td>\n",
       "      <td>Tuesday</td>\n",
       "      <td>0</td>\n",
       "      <td>na</td>\n",
       "      <td>2.0</td>\n",
       "      <td>15.0</td>\n",
       "      <td>38.0</td>\n",
       "      <td>43.0</td>\n",
       "      <td>98.0</td>\n",
       "      <td>1</td>\n",
       "    </tr>\n",
       "    <tr>\n",
       "      <th>...</th>\n",
       "      <td>...</td>\n",
       "      <td>...</td>\n",
       "      <td>...</td>\n",
       "      <td>...</td>\n",
       "      <td>...</td>\n",
       "      <td>...</td>\n",
       "      <td>...</td>\n",
       "      <td>...</td>\n",
       "      <td>...</td>\n",
       "      <td>...</td>\n",
       "    </tr>\n",
       "    <tr>\n",
       "      <th>2017-05-27</th>\n",
       "      <td>5/27/2017</td>\n",
       "      <td>Saturday</td>\n",
       "      <td>0</td>\n",
       "      <td>na</td>\n",
       "      <td>NaN</td>\n",
       "      <td>NaN</td>\n",
       "      <td>NaN</td>\n",
       "      <td>NaN</td>\n",
       "      <td>NaN</td>\n",
       "      <td>21</td>\n",
       "    </tr>\n",
       "    <tr>\n",
       "      <th>2017-05-28</th>\n",
       "      <td>5/28/2017</td>\n",
       "      <td>Sunday</td>\n",
       "      <td>0</td>\n",
       "      <td>na</td>\n",
       "      <td>NaN</td>\n",
       "      <td>NaN</td>\n",
       "      <td>NaN</td>\n",
       "      <td>NaN</td>\n",
       "      <td>NaN</td>\n",
       "      <td>21</td>\n",
       "    </tr>\n",
       "    <tr>\n",
       "      <th>2017-05-29</th>\n",
       "      <td>5/29/2017</td>\n",
       "      <td>Monday</td>\n",
       "      <td>1</td>\n",
       "      <td>Memorial Day</td>\n",
       "      <td>NaN</td>\n",
       "      <td>NaN</td>\n",
       "      <td>NaN</td>\n",
       "      <td>NaN</td>\n",
       "      <td>NaN</td>\n",
       "      <td>22</td>\n",
       "    </tr>\n",
       "    <tr>\n",
       "      <th>2017-05-30</th>\n",
       "      <td>5/30/2017</td>\n",
       "      <td>Tuesday</td>\n",
       "      <td>0</td>\n",
       "      <td>na</td>\n",
       "      <td>NaN</td>\n",
       "      <td>NaN</td>\n",
       "      <td>NaN</td>\n",
       "      <td>NaN</td>\n",
       "      <td>NaN</td>\n",
       "      <td>22</td>\n",
       "    </tr>\n",
       "    <tr>\n",
       "      <th>2017-05-31</th>\n",
       "      <td>5/31/2017</td>\n",
       "      <td>Wednesday</td>\n",
       "      <td>0</td>\n",
       "      <td>na</td>\n",
       "      <td>NaN</td>\n",
       "      <td>NaN</td>\n",
       "      <td>NaN</td>\n",
       "      <td>NaN</td>\n",
       "      <td>NaN</td>\n",
       "      <td>22</td>\n",
       "    </tr>\n",
       "  </tbody>\n",
       "</table>\n",
       "<p>517 rows × 10 columns</p>\n",
       "</div>"
      ],
      "text/plain": [
       "                 date    weekday  holiday    holiday_name  rest1  rest2  \\\n",
       "date                                                                      \n",
       "2016-01-01   1/1/2016     Friday        1  New Year's Day   65.0   25.0   \n",
       "2016-01-02   1/2/2016   Saturday        0              na   24.0   39.0   \n",
       "2016-01-03   1/3/2016     Sunday        0              na   24.0   31.0   \n",
       "2016-01-04   1/4/2016     Monday        0              na   23.0   18.0   \n",
       "2016-01-05   1/5/2016    Tuesday        0              na    2.0   15.0   \n",
       "...               ...        ...      ...             ...    ...    ...   \n",
       "2017-05-27  5/27/2017   Saturday        0              na    NaN    NaN   \n",
       "2017-05-28  5/28/2017     Sunday        0              na    NaN    NaN   \n",
       "2017-05-29  5/29/2017     Monday        1    Memorial Day    NaN    NaN   \n",
       "2017-05-30  5/30/2017    Tuesday        0              na    NaN    NaN   \n",
       "2017-05-31  5/31/2017  Wednesday        0              na    NaN    NaN   \n",
       "\n",
       "            rest3  rest4  total  week  \n",
       "date                                   \n",
       "2016-01-01   67.0  139.0  296.0    53  \n",
       "2016-01-02   43.0   85.0  191.0    53  \n",
       "2016-01-03   66.0   81.0  202.0    53  \n",
       "2016-01-04   32.0   32.0  105.0     1  \n",
       "2016-01-05   38.0   43.0   98.0     1  \n",
       "...           ...    ...    ...   ...  \n",
       "2017-05-27    NaN    NaN    NaN    21  \n",
       "2017-05-28    NaN    NaN    NaN    21  \n",
       "2017-05-29    NaN    NaN    NaN    22  \n",
       "2017-05-30    NaN    NaN    NaN    22  \n",
       "2017-05-31    NaN    NaN    NaN    22  \n",
       "\n",
       "[517 rows x 10 columns]"
      ]
     },
     "execution_count": 6,
     "metadata": {},
     "output_type": "execute_result"
    }
   ],
   "source": [
    "res.index.week\n",
    "res['week']=res.index.week\n",
    "res"
   ]
  },
  {
   "cell_type": "code",
   "execution_count": 10,
   "metadata": {
    "scrolled": true
   },
   "outputs": [
    {
     "data": {
      "text/plain": [
       "week\n",
       "1     409.0\n",
       "2     403.0\n",
       "3     518.0\n",
       "4     493.0\n",
       "5     576.0\n",
       "6     524.0\n",
       "7     481.0\n",
       "8     630.0\n",
       "9     545.0\n",
       "10    618.0\n",
       "11    592.0\n",
       "12    534.0\n",
       "13    558.0\n",
       "14    554.0\n",
       "15    512.0\n",
       "16    513.0\n",
       "17    299.0\n",
       "18    208.0\n",
       "19    172.0\n",
       "20    221.0\n",
       "21    231.0\n",
       "22    223.0\n",
       "23    262.0\n",
       "24    364.0\n",
       "25    357.0\n",
       "26    284.0\n",
       "27    340.0\n",
       "28    282.0\n",
       "29    258.0\n",
       "30    267.0\n",
       "31    249.0\n",
       "32    211.0\n",
       "33    207.0\n",
       "34    220.0\n",
       "35    235.0\n",
       "36    290.0\n",
       "37    231.0\n",
       "38    272.0\n",
       "39    208.0\n",
       "40    280.0\n",
       "41    252.0\n",
       "42    234.0\n",
       "43    254.0\n",
       "44    297.0\n",
       "45    255.0\n",
       "46    246.0\n",
       "47    294.0\n",
       "48    226.0\n",
       "49    225.0\n",
       "50    274.0\n",
       "51    303.0\n",
       "52    337.0\n",
       "53    113.0\n",
       "Name: rest1, dtype: float64"
      ]
     },
     "execution_count": 10,
     "metadata": {},
     "output_type": "execute_result"
    }
   ],
   "source": [
    "res.groupby('week').rest1.sum()"
   ]
  },
  {
   "cell_type": "code",
   "execution_count": null,
   "metadata": {},
   "outputs": [],
   "source": [
    "#每間餐廳，每週來客數總和多少？¶\n",
    "res.groupby('week')[['rest1','rest2','rest3','rest4']].sum()"
   ]
  },
  {
   "cell_type": "markdown",
   "metadata": {},
   "source": [
    "## 假日四間餐廳平均來客數\n",
    "提示：\n",
    "* 使用欄位Holiday找出假日資料\n",
    "* 使用loc過濾四間餐廳的來客數\n",
    "* 最後算出平均值"
   ]
  },
  {
   "cell_type": "code",
   "execution_count": 14,
   "metadata": {
    "scrolled": true
   },
   "outputs": [
    {
     "data": {
      "text/plain": [
       "rest1    48.56250\n",
       "rest2    33.15625\n",
       "rest3    43.65625\n",
       "rest4    68.34375\n",
       "dtype: float64"
      ]
     },
     "execution_count": 14,
     "metadata": {},
     "output_type": "execute_result"
    }
   ],
   "source": [
    "res[res.holiday == 1].loc[:,'rest1':'rest4'].mean()"
   ]
  },
  {
   "cell_type": "code",
   "execution_count": 16,
   "metadata": {},
   "outputs": [
    {
     "data": {
      "text/plain": [
       "rest1    54.59375\n",
       "rest2    32.73750\n",
       "rest3    51.70000\n",
       "rest4    60.62500\n",
       "dtype: float64"
      ]
     },
     "execution_count": 16,
     "metadata": {},
     "output_type": "execute_result"
    }
   ],
   "source": [
    "#假日及六日的平均來客數\n",
    "res[(res.holiday==1)|(res.weekday=='Saturday')|(res.weekday=='Sunday')].loc[:,'rest1':'rest4'].mean()"
   ]
  },
  {
   "cell_type": "markdown",
   "metadata": {},
   "source": [
    "## 非假日四間餐廳平均來客數"
   ]
  },
  {
   "cell_type": "code",
   "execution_count": 17,
   "metadata": {},
   "outputs": [
    {
     "data": {
      "text/plain": [
       "rest1    36.742152\n",
       "rest2    26.733184\n",
       "rest3    30.679372\n",
       "rest4    35.338565\n",
       "dtype: float64"
      ]
     },
     "execution_count": 17,
     "metadata": {},
     "output_type": "execute_result"
    }
   ],
   "source": [
    "res[res.holiday !=1].loc[:,'rest1':'rest4'].mean()"
   ]
  },
  {
   "cell_type": "code",
   "execution_count": 20,
   "metadata": {},
   "outputs": [
    {
     "data": {
      "text/plain": [
       "rest1    28.949686\n",
       "rest2    24.358491\n",
       "rest3    21.408805\n",
       "rest4    25.937107\n",
       "dtype: float64"
      ]
     },
     "execution_count": 20,
     "metadata": {},
     "output_type": "execute_result"
    }
   ],
   "source": [
    "# 隱藏題，非假日、非六日，四間餐廳的平均來客數\n",
    "res[(res.holiday !=1)&(res.weekday !='Saturday')&(res.weekday !='Sunday')].loc[:,'rest1':'rest4'].mean()"
   ]
  }
 ],
 "metadata": {
  "kernelspec": {
   "display_name": "Python 3 (ipykernel)",
   "language": "python",
   "name": "python3"
  },
  "language_info": {
   "codemirror_mode": {
    "name": "ipython",
    "version": 3
   },
   "file_extension": ".py",
   "mimetype": "text/x-python",
   "name": "python",
   "nbconvert_exporter": "python",
   "pygments_lexer": "ipython3",
   "version": "3.9.13"
  }
 },
 "nbformat": 4,
 "nbformat_minor": 2
}
